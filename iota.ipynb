{
  "nbformat": 4,
  "nbformat_minor": 0,
  "metadata": {
    "colab": {
      "provenance": [],
      "toc_visible": true
    },
    "kernelspec": {
      "name": "python3",
      "display_name": "Python 3"
    },
    "language_info": {
      "name": "python"
    }
  },
  "cells": [
    {
      "cell_type": "code",
      "execution_count": 5,
      "metadata": {
        "id": "DGKTo3BaWpAY"
      },
      "outputs": [],
      "source": [
        "import hashlib\n",
        "import random\n",
        "import string\n",
        "import time\n",
        "from collections import deque\n",
        "import sys\n",
        "from math import ulp"
      ]
    },
    {
      "cell_type": "code",
      "source": [
        "class Entity:\n",
        "    def __init__(self, id):\n",
        "\n",
        "        self.id = id\n",
        "        self.entityTransactions = []\n",
        "\n",
        "    # step1 : Calculating hash (finding the nonce that satisfies the defined target)\n",
        "    # step2 : Selecting two transactions in a way\n",
        "    # step3 : Check if two transactions are not conflicting\n",
        "    # step4 : Apply required changes in variables\n",
        "    # step5 : Update cumulative weights and check for confirmed transactions\n",
        "\n",
        "    def send_transaction(self):\n",
        "        timestamp = time.time()\n",
        "        tx_id = random.randint(0, 100)\n",
        "        transaction = Transaction(tx_id, timestamp, self.id)\n",
        "\n",
        "        # step1\n",
        "        transaction.hash = transaction.calculate_hash()\n",
        "        print('Transaction hash: ', transaction.hash)\n",
        "\n",
        "        # step2\n",
        "        selected_transactions = self.transaction_selection(tipsList, unconfirmedList, 2)\n",
        "        print(\"\\nSelected transactions' IDs:\")\n",
        "        for tx in selected_transactions:\n",
        "            print(tx.id)\n",
        "\n",
        "        # step3\n",
        "        self.validate_transactions(selected_transactions)\n",
        "\n",
        "        # step4\n",
        "        for tx in selected_transactions:\n",
        "            tx.approved_by_transactions.append(transaction)\n",
        "            transaction.approved_transactions.append(tx)\n",
        "\n",
        "            # add the current transaction hash to the selected transaction header\n",
        "            tx.previous_hashes.append(transaction.hash)\n",
        "\n",
        "            # update tips list\n",
        "            if tx in tipsList:\n",
        "                tipsList.remove(tx)\n",
        "                unconfirmedList.append(tx)\n",
        "\n",
        "        # add the transaction to the transaction list of the current node\n",
        "        self.entityTransactions.append(transaction)\n",
        "\n",
        "        tipsList.append(transaction)\n",
        "        print(\"\\nTransaction is added to the tangle.\")\n",
        "\n",
        "        # step5\n",
        "        transaction.update_cumulative_weights()\n",
        "\n",
        "        # check if the cumulative weight of unconfirmed transactions reached the threshold\n",
        "        for tx in unconfirmedList:\n",
        "            if tx.cumulative_weight >= confirmed_threshold:\n",
        "                unconfirmedList.remove(tx)\n",
        "                confirmedList.append(tx)\n",
        "\n",
        "        # print transaction details\n",
        "        print(transaction)\n",
        "        print(\"\\nTip List: \", [tx.id for tx in tipsList])\n",
        "        print(\"\\nUnconfirmed List: \", [tx.id for tx in unconfirmedList])\n",
        "        print(\"\\nConfirmed List: \", [tx.id for tx in confirmedList])\n",
        "\n",
        "\n",
        "    def transaction_selection(self, tipsList, unconfirmedList, num_txs):\n",
        "        selected_transactions = tipsList[-num_txs:]\n",
        "        num_selected_txs = len(selected_transactions)\n",
        "\n",
        "        if num_selected_txs < num_txs:\n",
        "            num_remaining = num_txs - num_selected_txs\n",
        "\n",
        "            if len(unconfirmedList) >= num_remaining:\n",
        "                selected_transactions.extend(unconfirmedList[-num_remaining:])\n",
        "            else:\n",
        "                selected_transactions.extend(unconfirmedList[:])\n",
        "\n",
        "        return selected_transactions\n",
        "\n",
        "\n",
        "    def validate_transactions(self, selected_transactions):\n",
        "        new_selection = False\n",
        "\n",
        "        for tx in selected_transactions:\n",
        "            valid = True\n",
        "\n",
        "            if not self.is_transaction_valid(tx):\n",
        "                new_selection = True\n",
        "                valid = False\n",
        "\n",
        "                # create temp tip list and unconfirmed list to search for valid transactions\n",
        "                temp_tipsList = [x for x in tipsList if x not in selected_transactions]\n",
        "                temp_unconfirmedList = [x for x in unconfirmedList if x not in selected_transactions]\n",
        "\n",
        "                print(f'\\nTransaction {tx.id} is not valid. finding another transaction ...')\n",
        "\n",
        "                while not valid:\n",
        "                    new_tx = self.transaction_selection(temp_tipsList, temp_unconfirmedList, 1)\n",
        "\n",
        "                    if not new_tx:\n",
        "                        valid = True\n",
        "                        print(\"\\nThere is no other transaction to choose.\")\n",
        "\n",
        "                    elif self.is_transaction_valid(new_tx):\n",
        "                        valid = True\n",
        "                        selected_transactions.remove(tx)\n",
        "                        selected_transactions.append(new_tx)\n",
        "\n",
        "                    else: # if new transaction is also invalid\n",
        "                        # remove the invalid transaction form tip/unconfirmed list not to choose it again\n",
        "                        if new_tx in temp_tipsList:\n",
        "                            temp_tipsList.remove(new_tx)\n",
        "                        else:\n",
        "                            temp_unconfirmedList.remove(new_tx)\n",
        "\n",
        "        if new_selection:\n",
        "            print(\"\\nNewly selected transactions' IDs:\")\n",
        "            for tx in selected_transactions:\n",
        "                print(tx.id)\n",
        "\n",
        "\n",
        "    def is_transaction_valid(self, transaction):\n",
        "        valid = True\n",
        "\n",
        "        for tx in transaction.approved_transactions:\n",
        "            if transaction.hash not in tx.previous_hashes:\n",
        "                valid = False\n",
        "\n",
        "        return valid\n",
        "\n",
        "\n",
        "    def get_transactions(self):\n",
        "        return \", \".join([f\"{tx.id}\" for tx in self.entityTransactions])\n",
        "\n",
        "    def __str__(self):\n",
        "        return f\"Entity ({self.id})\"\n"
      ],
      "metadata": {
        "id": "0830yU6IXpY4"
      },
      "execution_count": 27,
      "outputs": []
    },
    {
      "cell_type": "code",
      "source": [
        "class Transaction:\n",
        "    def __init__(self, id, timestamp, sender_entity):\n",
        "        self.id = id\n",
        "        self.timestamp = timestamp\n",
        "        self.sender_entity = sender_entity\n",
        "\n",
        "        self.data = self.get_random_string()\n",
        "        self.weight = 1\n",
        "        self.cumulative_weight = self.weight\n",
        "        self.hash = None\n",
        "        self.approved_transactions = []  # List of transactions approved by this transaction\n",
        "        self.approved_by_transactions = []  # List of transactions that approve this transaction\n",
        "        self.previous_hashes = []  # List of the hashes of the transactions that approved this transaction\n",
        "\n",
        "\n",
        "    def get_random_string(self):\n",
        "        return ''.join(random.choice(string.ascii_lowercase + string.digits) for _ in range(5))\n",
        "\n",
        "\n",
        "    def calculate_hash(self):\n",
        "        block_hash = \"\"\n",
        "        target = \"0000\"\n",
        "\n",
        "        data_hash = hashlib.sha256(self.data.encode()).hexdigest()\n",
        "        # Convert data_hash hexadecimal strings to bytes for concatination later on\n",
        "        data_hash_bytes = bytes.fromhex(data_hash)\n",
        "\n",
        "        while not block_hash.startswith(target):\n",
        "          nonce = self.get_random_string()\n",
        "          nonce_hash = hashlib.sha256(nonce.encode()).hexdigest()\n",
        "\n",
        "          # Convert nonce_hash hexadecimal strings to bytes for concatination\n",
        "          nonce_hash_bytes = bytes.fromhex(nonce_hash)\n",
        "\n",
        "          # Concatenate the bytes\n",
        "          concatenated_bytes = data_hash_bytes + nonce_hash_bytes\n",
        "          # Hash the concatenated bytes using SHA-256\n",
        "          block_hash = hashlib.sha256(concatenated_bytes).hexdigest()\n",
        "\n",
        "        return block_hash\n",
        "\n",
        "\n",
        "    def calculate_cumulative_weight(self):\n",
        "        visited = set()\n",
        "        total_weight = 0\n",
        "\n",
        "        queue = deque([self])\n",
        "        visited.add(self)\n",
        "\n",
        "        while queue:\n",
        "            current_transaction = queue.popleft()\n",
        "            total_weight += current_transaction.weight\n",
        "\n",
        "            for approved_transaction in current_transaction.approved_by_transactions:\n",
        "                if approved_transaction not in visited:\n",
        "                    visited.add(approved_transaction)\n",
        "                    queue.append(approved_transaction)\n",
        "\n",
        "        self.cumulative_weight = total_weight\n",
        "\n",
        "\n",
        "    # update cumulative weights of transactions after adding a new transaction to the tangle\n",
        "    def update_cumulative_weights(self):\n",
        "        visited = set()\n",
        "        for tx in self.approved_transactions:\n",
        "            queue = deque([tx])\n",
        "            visited.add(tx)\n",
        "\n",
        "        while queue:\n",
        "            current_transaction = queue.popleft()\n",
        "            current_transaction.cumulative_weight += self.weight\n",
        "\n",
        "            for tx in current_transaction.approved_transactions:\n",
        "                if tx not in visited:\n",
        "                    visited.add(tx)\n",
        "                    queue.append(tx)\n",
        "\n",
        "\n",
        "    def __str__(self):\n",
        "        approved_transactions_str = \", \".join([f\"{tx.id}\" for tx in self.approved_transactions])\n",
        "\n",
        "        return \"\\n*********************\\nTransaction details\\n*********************\\n\"\\\n",
        "               f\"Transaction ID: {self.id}\\n\"\\\n",
        "               f\"Transaction data: {self.data}\\n\"\\\n",
        "               f\"Transaction weight: {self.weight}\\n\"\\\n",
        "               f\"Transaction cumulative weight: {self.cumulative_weight}\\n\"\\\n",
        "               f\"Approved Transactions: {approved_transactions_str}\"\n"
      ],
      "metadata": {
        "id": "mSSwJViQXmZ8"
      },
      "execution_count": 23,
      "outputs": []
    },
    {
      "cell_type": "code",
      "source": [
        "# prints cumulative weights of all transactions\n",
        "def print_c_weights():\n",
        "    tangle = confirmedList + unconfirmedList + tipsList\n",
        "    c_weight_str = \"\"\n",
        "\n",
        "    for tx in tangle:\n",
        "        c_weight_str += f\"Transaction ID: {tx.id}  Cumulative Weight: {tx.cumulative_weight}\\n\"\n",
        "\n",
        "    print(c_weight_str)\n"
      ],
      "metadata": {
        "id": "4mWwSm8GkiV-"
      },
      "execution_count": 8,
      "outputs": []
    },
    {
      "cell_type": "code",
      "source": [
        "tipsList = []  # Global FIFO list of tips\n",
        "unconfirmedList = []  # Global list of unconfirmed transactions\n",
        "confirmedList = []  # Global list of confirmed transactions\n",
        "confirmed_threshold = 5  # threshold of cumulative weight for confirming a transaction\n",
        "\n",
        "# genesis\n",
        "genesis = Transaction(0, time.time(), 0)\n",
        "tipsList.append(genesis)\n",
        "\n",
        "# other nodes\n",
        "node_1 = Entity(1)\n",
        "node_2 = Entity(2)\n",
        "node_3 = Entity(3)\n",
        "node_4 = Entity(4)\n",
        "node_5 = Entity(5)"
      ],
      "metadata": {
        "id": "vawp8B9SXtm3"
      },
      "execution_count": 28,
      "outputs": []
    },
    {
      "cell_type": "code",
      "source": [
        "node_1.send_transaction()"
      ],
      "metadata": {
        "colab": {
          "base_uri": "https://localhost:8080/"
        },
        "id": "7iprzt91ZGA0",
        "outputId": "404a6127-5517-4734-97d9-2325d667c526"
      },
      "execution_count": null,
      "outputs": [
        {
          "output_type": "stream",
          "name": "stdout",
          "text": [
            "Transaction hash:  00005317394faafaac66daf969750706164e0b82a968a71df77c15f8f8c04115\n",
            "\n",
            "Selected transactions' IDs:\n",
            "0\n",
            "\n",
            "Transaction is added to the tangle.\n",
            "\n",
            "*********************\n",
            "Transaction details\n",
            "*********************\n",
            "Transaction ID: 48\n",
            "Transaction data: 9xzcy\n",
            "Transaction weight: 1\n",
            "Transaction cumulative weight: 1\n",
            "Approved Transactions: 0\n",
            "\n",
            "Tip List:  [48]\n",
            "\n",
            "Unconfirmed List:  [0]\n",
            "\n",
            "Confirmed List:  []\n"
          ]
        }
      ]
    },
    {
      "cell_type": "code",
      "source": [
        "node_3.send_transaction()"
      ],
      "metadata": {
        "colab": {
          "base_uri": "https://localhost:8080/"
        },
        "id": "d6-OtWmHotn8",
        "outputId": "bb02dc0f-037e-488d-b070-4b871e65de98"
      },
      "execution_count": null,
      "outputs": [
        {
          "output_type": "stream",
          "name": "stdout",
          "text": [
            "Transaction hash:  0000711b05a5c764670a8e3d8ed38320ac4c4dfdba346793e80345f530286d65\n",
            "\n",
            "Selected transactions' IDs:\n",
            "48\n",
            "0\n",
            "\n",
            "Transaction is added to the tangle.\n",
            "\n",
            "*********************\n",
            "Transaction details\n",
            "*********************\n",
            "Transaction ID: 54\n",
            "Transaction data: uzm31\n",
            "Transaction weight: 1\n",
            "Transaction cumulative weight: 1\n",
            "Approved Transactions: 48, 0\n",
            "\n",
            "Tip List:  [54]\n",
            "\n",
            "Unconfirmed List:  [0, 48]\n",
            "\n",
            "Confirmed List:  []\n"
          ]
        }
      ]
    },
    {
      "cell_type": "code",
      "source": [
        "node_5.send_transaction()"
      ],
      "metadata": {
        "colab": {
          "base_uri": "https://localhost:8080/"
        },
        "id": "IJSLUmRHvvSw",
        "outputId": "16ecdfcf-725f-4ee9-9233-ffb0e69d6d6f"
      },
      "execution_count": null,
      "outputs": [
        {
          "output_type": "stream",
          "name": "stdout",
          "text": [
            "Transaction hash:  000098ba18bf8393b2b34fd1109d3180469ea003cbf51029971275a731bc4137\n",
            "\n",
            "Selected transactions' IDs:\n",
            "54\n",
            "48\n",
            "\n",
            "Transaction is added to the tangle.\n",
            "\n",
            "*********************\n",
            "Transaction details\n",
            "*********************\n",
            "Transaction ID: 6\n",
            "Transaction data: 783x1\n",
            "Transaction weight: 1\n",
            "Transaction cumulative weight: 1\n",
            "Approved Transactions: 54, 48\n",
            "\n",
            "Tip List:  [6]\n",
            "\n",
            "Unconfirmed List:  [0, 48, 54]\n",
            "\n",
            "Confirmed List:  []\n"
          ]
        }
      ]
    },
    {
      "cell_type": "code",
      "source": [
        "node_2.send_transaction()"
      ],
      "metadata": {
        "colab": {
          "base_uri": "https://localhost:8080/"
        },
        "id": "MUG070MyvcqM",
        "outputId": "aaf6c292-b817-48f7-dc37-a6470f050fa0"
      },
      "execution_count": null,
      "outputs": [
        {
          "output_type": "stream",
          "name": "stdout",
          "text": [
            "Transaction hash:  000029a2fd30059bdaa09b97f6c40617e2db444b76bf0e5cb1519e954d0b06e7\n",
            "\n",
            "Selected transactions' IDs:\n",
            "6\n",
            "54\n",
            "\n",
            "Transaction is added to the tangle.\n",
            "\n",
            "*********************\n",
            "Transaction details\n",
            "*********************\n",
            "Transaction ID: 1\n",
            "Transaction data: ef3vd\n",
            "Transaction weight: 1\n",
            "Transaction cumulative weight: 1\n",
            "Approved Transactions: 6, 54\n",
            "\n",
            "Tip List:  [1]\n",
            "\n",
            "Unconfirmed List:  [48, 54, 6]\n",
            "\n",
            "Confirmed List:  [0]\n"
          ]
        }
      ]
    },
    {
      "cell_type": "code",
      "source": [
        "node_4.send_transaction()"
      ],
      "metadata": {
        "colab": {
          "base_uri": "https://localhost:8080/"
        },
        "id": "RRHtSnJBVvuj",
        "outputId": "0a813f51-eb0f-42f9-baf7-a59cd6a6498a"
      },
      "execution_count": null,
      "outputs": [
        {
          "output_type": "stream",
          "name": "stdout",
          "text": [
            "Transaction hash:  00004b237670a9a6a4400f511588da40be543f355130cf951d380d1e791ac758\n",
            "\n",
            "Selected transactions' IDs:\n",
            "1\n",
            "6\n",
            "\n",
            "Transaction is added to the tangle.\n",
            "\n",
            "*********************\n",
            "Transaction details\n",
            "*********************\n",
            "Transaction ID: 57\n",
            "Transaction data: shdqy\n",
            "Transaction weight: 1\n",
            "Transaction cumulative weight: 1\n",
            "Approved Transactions: 1, 6\n",
            "\n",
            "Tip List:  [57]\n",
            "\n",
            "Unconfirmed List:  [48, 54, 6, 1]\n",
            "\n",
            "Confirmed List:  [0]\n"
          ]
        }
      ]
    },
    {
      "cell_type": "code",
      "source": [
        "print_c_weights()"
      ],
      "metadata": {
        "colab": {
          "base_uri": "https://localhost:8080/"
        },
        "id": "XaBn71urflZ1",
        "outputId": "7e81a037-8d52-4934-95fe-566c7ae96db2"
      },
      "execution_count": null,
      "outputs": [
        {
          "output_type": "stream",
          "name": "stdout",
          "text": [
            "Transaction ID: 0  Cumulative Weight: 6\n",
            "Transaction ID: 48  Cumulative Weight: 4\n",
            "Transaction ID: 54  Cumulative Weight: 3\n",
            "Transaction ID: 6  Cumulative Weight: 2\n",
            "Transaction ID: 1  Cumulative Weight: 1\n",
            "Transaction ID: 57  Cumulative Weight: 1\n",
            "\n"
          ]
        }
      ]
    },
    {
      "cell_type": "code",
      "source": [
        "node_5.send_transaction()"
      ],
      "metadata": {
        "colab": {
          "base_uri": "https://localhost:8080/"
        },
        "id": "sidlh6f7Lzv3",
        "outputId": "cd74d145-0235-4751-b24a-42c42705a70e"
      },
      "execution_count": null,
      "outputs": [
        {
          "output_type": "stream",
          "name": "stdout",
          "text": [
            "Transaction hash:  0000472ae05d273cddedf12ec65b59d07197185aa26686b40816e88f18bd84b7\n",
            "\n",
            "Selected transactions' IDs:\n",
            "57\n",
            "1\n",
            "\n",
            "Transaction is added to the tangle.\n",
            "\n",
            "*********************\n",
            "Transaction details\n",
            "*********************\n",
            "Transaction ID: 86\n",
            "Transaction data: hwt93\n",
            "Transaction weight: 1\n",
            "Transaction cumulative weight: 1\n",
            "Approved Transactions: 57, 1\n",
            "\n",
            "Tip List:  [86]\n",
            "\n",
            "Unconfirmed List:  [54, 6, 1, 57]\n",
            "\n",
            "Confirmed List:  [0, 48]\n"
          ]
        }
      ]
    },
    {
      "cell_type": "code",
      "source": [
        "print_c_weights()"
      ],
      "metadata": {
        "colab": {
          "base_uri": "https://localhost:8080/"
        },
        "id": "ckiwsixoMBRP",
        "outputId": "6818b784-c26d-498a-b703-f2add5ddd2d1"
      },
      "execution_count": null,
      "outputs": [
        {
          "output_type": "stream",
          "name": "stdout",
          "text": [
            "Transaction ID: 0  Cumulative Weight: 7\n",
            "Transaction ID: 48  Cumulative Weight: 5\n",
            "Transaction ID: 54  Cumulative Weight: 4\n",
            "Transaction ID: 6  Cumulative Weight: 3\n",
            "Transaction ID: 1  Cumulative Weight: 2\n",
            "Transaction ID: 57  Cumulative Weight: 1\n",
            "Transaction ID: 86  Cumulative Weight: 1\n",
            "\n"
          ]
        }
      ]
    }
  ]
}
